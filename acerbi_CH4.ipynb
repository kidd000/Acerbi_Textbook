{
  "nbformat": 4,
  "nbformat_minor": 0,
  "metadata": {
    "colab": {
      "name": "acerbi_CH4.ipynb",
      "provenance": [],
      "collapsed_sections": [],
      "authorship_tag": "ABX9TyODxXDNIq0cqbj4P0xfj/G/",
      "include_colab_link": true
    },
    "kernelspec": {
      "name": "python3",
      "display_name": "Python 3"
    }
  },
  "cells": [
    {
      "cell_type": "markdown",
      "metadata": {
        "id": "view-in-github",
        "colab_type": "text"
      },
      "source": [
        "<a href=\"https://colab.research.google.com/github/kidd000/Acerbi_Textbook/blob/main/acerbi_CH4.ipynb\" target=\"_parent\"><img src=\"https://colab.research.google.com/assets/colab-badge.svg\" alt=\"Open In Colab\"/></a>"
      ]
    },
    {
      "cell_type": "markdown",
      "metadata": {
        "id": "1ivXY4-MoCRZ"
      },
      "source": [
        "第3章では、ある文化的形質が他の形質よりも本質的にコピーされやすい場合について見てきました。ここでは、形質が同等であるにもかかわらず、個体は集団の特性、特に他の個体がすでにその形質を持っている場合に、ある形質を採用する可能性が高くなるという、他の種類の伝達バイアスについて見ていきます。先述したように、これらはしばしば「間接的」または「文脈」バイアスと呼ばれます）。\r\n",
        "\r\n",
        "\r\n",
        "# **4.1   　同調伝達の論理**\r\n",
        "\r\n",
        "\r\n",
        "第一の可能性として、集団内での形質の頻度、すなわち、他の個体がどれだけの数の形質をすでに持っているかに影響される可能性があります。同調（または「正の頻度依存バイアス」）が最も研究されています。ここでは、個体は、その固有の特徴に関係なく、集団の中で最も一般的な形質を採用する可能性が不釣り合いなほど高くなる。反対に、最も一般的でない形質がコピーされる可能性が高い場合、反同調または負の頻度依存バイアスも考えられる。これは実際の生活ではおそらくあまり一般的ではないが)。\r\n",
        "\r\n",
        "例えば、母集団の中で形質Aの頻度が0.7で、残りの人が形質Bを持っているとするとします。偏りのない学習者は，0.7と全く等しい確率で形質Aを採用するだろう。これは偏りのない伝達であり，（第1章：前世代のメンバーをランダムに選ぶことであり、採用の確率は前世代の中でのその形質の頻度に等しい）で説明したモデルで起こることです。\r\n",
        "\r\n",
        "一方、同調主義的な学習者は、0.7よりも大きな確率で形質Aを採用します。言い換えれば、普及している形質は、偏りのない伝達に比べて「採用ブースト」を受けることになります。普及していない形質は、それに相当する「採用ペナルティ」を受けます。このブーストやペナルティの大きさは、パラメータによって制御することができます。\r\n",
        "\r\n",
        "我々のモデルでは、シンプルにしておきましょう。個人が母集団全体からサンプリングすると仮定するのではなく（大規模な母集団ではありえない）、3人だけのデモンストレータを無作為に選ぶと仮定してみましょう。なぜ3人なのか？これは、多数派（すなわち、2対1）を生み出すことができるデデモンストレータの最小数であり、同調を実装するために必要な数です。2人のデモンストレータが1つの形質を持っていて、もう1人のデモンストレータが別の形質を持っている場合、多数派の形質が採用される確率を高め、少数派の形質が採用される確率を下げたい。\r\n",
        "\r\n",
        "（中略）\r\n",
        "\r\n",
        "これらの前提条件を、これまで構築してきたような個人ベースのモデルに実装してみましょう。前述のように、N個の個体がそれぞれAかBの2つの形質のいずれかを持っていると仮定します。世代t =1におけるAの初期頻度はp0です。関数に直行するのではなく、一歩一歩進んでみましょう。\r\n",
        "\r\n",
        "最初に、パラメータ N と p0 を以前と同様に指定し、さらに新しい同調パラメータ D を指定します。また、通常の母集団を作成し、p0 で指定された割合で A と B で満たします。\r\n",
        "\r\n",
        "\r\n",
        "\r\n"
      ]
    },
    {
      "cell_type": "code",
      "metadata": {
        "colab": {
          "base_uri": "https://localhost:8080/",
          "height": 35
        },
        "id": "Y2z1OZrrhDrE",
        "outputId": "987189dc-22a0-43f9-d334-d967df55d40d"
      },
      "source": [
        "import random\r\n",
        "import numpy as np\r\n",
        "import pandas as pd\r\n",
        "\r\n",
        "N = 100\r\n",
        "p_0 = 0.5\r\n",
        "D = 1\r\n",
        "\r\n",
        "# 乱数種を設定\r\n",
        "np.random.seed(1)\r\n",
        "\r\n",
        "# 文化形質を設定\r\n",
        "cultural_trait = [\"A\",\"B\"]\r\n",
        "\r\n",
        "# 1世代目のpopulationを作る\r\n",
        "population = list(np.random.choice(cultural_trait, size = N, p = [p_0, 1-p_0]))\r\n",
        "\r\n",
        "# 1世代目のpopulationの中身を見てみる\r\n",
        "population"
      ],
      "execution_count": null,
      "outputs": [
        {
          "output_type": "execute_result",
          "data": {
            "application/vnd.google.colaboratory.intrinsic+json": {
              "type": "string"
            },
            "text/plain": [
              "'B'"
            ]
          },
          "metadata": {
            "tags": []
          },
          "execution_count": 41
        }
      ]
    },
    {
      "cell_type": "markdown",
      "metadata": {
        "id": "gS5H7xNM5f-Q"
      },
      "source": [
        "ここで、次の世代の新しい個体ごとに、現在の個体群から無作為に3人のデモンストレータを選ぶ、デモンストレータと呼ばれる別のデータフレームを作成します。したがって、3つの列/変数（それぞれのデモンストレータに1つずつ）、N個の行（各個人に1つずつ）が必要となります。各列をpopulationデータフレームからランダムに選ばれた形質で埋めます。"
      ]
    },
    {
      "cell_type": "code",
      "metadata": {
        "colab": {
          "base_uri": "https://localhost:8080/",
          "height": 413
        },
        "id": "QBXi26vf9vGW",
        "outputId": "21c37346-cb91-45aa-a20d-fa70d1f34fef"
      },
      "source": [
        "# デモンストレータのデータフレームを作る-1世代目のpopulationからランダムに3人ずつ選ぶ試行をN人分\r\n",
        "demonstrators = pd.DataFrame(np.arange(N*3).reshape(N,3)).applymap(lambda x: np.random.choice(population))\r\n",
        "\r\n",
        "# デモンストレータのデータフレームの中身を見てみる\r\n",
        "demonstrators"
      ],
      "execution_count": null,
      "outputs": [
        {
          "output_type": "execute_result",
          "data": {
            "text/html": [
              "<div>\n",
              "<style scoped>\n",
              "    .dataframe tbody tr th:only-of-type {\n",
              "        vertical-align: middle;\n",
              "    }\n",
              "\n",
              "    .dataframe tbody tr th {\n",
              "        vertical-align: top;\n",
              "    }\n",
              "\n",
              "    .dataframe thead th {\n",
              "        text-align: right;\n",
              "    }\n",
              "</style>\n",
              "<table border=\"1\" class=\"dataframe\">\n",
              "  <thead>\n",
              "    <tr style=\"text-align: right;\">\n",
              "      <th></th>\n",
              "      <th>0</th>\n",
              "      <th>1</th>\n",
              "      <th>2</th>\n",
              "    </tr>\n",
              "  </thead>\n",
              "  <tbody>\n",
              "    <tr>\n",
              "      <th>0</th>\n",
              "      <td>B</td>\n",
              "      <td>B</td>\n",
              "      <td>A</td>\n",
              "    </tr>\n",
              "    <tr>\n",
              "      <th>1</th>\n",
              "      <td>A</td>\n",
              "      <td>A</td>\n",
              "      <td>B</td>\n",
              "    </tr>\n",
              "    <tr>\n",
              "      <th>2</th>\n",
              "      <td>B</td>\n",
              "      <td>A</td>\n",
              "      <td>B</td>\n",
              "    </tr>\n",
              "    <tr>\n",
              "      <th>3</th>\n",
              "      <td>A</td>\n",
              "      <td>B</td>\n",
              "      <td>A</td>\n",
              "    </tr>\n",
              "    <tr>\n",
              "      <th>4</th>\n",
              "      <td>B</td>\n",
              "      <td>B</td>\n",
              "      <td>B</td>\n",
              "    </tr>\n",
              "    <tr>\n",
              "      <th>...</th>\n",
              "      <td>...</td>\n",
              "      <td>...</td>\n",
              "      <td>...</td>\n",
              "    </tr>\n",
              "    <tr>\n",
              "      <th>95</th>\n",
              "      <td>B</td>\n",
              "      <td>A</td>\n",
              "      <td>A</td>\n",
              "    </tr>\n",
              "    <tr>\n",
              "      <th>96</th>\n",
              "      <td>B</td>\n",
              "      <td>A</td>\n",
              "      <td>B</td>\n",
              "    </tr>\n",
              "    <tr>\n",
              "      <th>97</th>\n",
              "      <td>B</td>\n",
              "      <td>B</td>\n",
              "      <td>B</td>\n",
              "    </tr>\n",
              "    <tr>\n",
              "      <th>98</th>\n",
              "      <td>B</td>\n",
              "      <td>B</td>\n",
              "      <td>B</td>\n",
              "    </tr>\n",
              "    <tr>\n",
              "      <th>99</th>\n",
              "      <td>A</td>\n",
              "      <td>A</td>\n",
              "      <td>A</td>\n",
              "    </tr>\n",
              "  </tbody>\n",
              "</table>\n",
              "<p>100 rows × 3 columns</p>\n",
              "</div>"
            ],
            "text/plain": [
              "    0  1  2\n",
              "0   B  B  A\n",
              "1   A  A  B\n",
              "2   B  A  B\n",
              "3   A  B  A\n",
              "4   B  B  B\n",
              ".. .. .. ..\n",
              "95  B  A  A\n",
              "96  B  A  B\n",
              "97  B  B  B\n",
              "98  B  B  B\n",
              "99  A  A  A\n",
              "\n",
              "[100 rows x 3 columns]"
            ]
          },
          "metadata": {
            "tags": []
          },
          "execution_count": 43
        }
      ]
    },
    {
      "cell_type": "markdown",
      "metadata": {
        "id": "5rTF12o-_McO"
      },
      "source": [
        "ここでは、各行が、それぞれの新しい次世代の個人によってランダムに選ばれた３つのデモンストレーターの文化形質が表されていると考えてください。ここでは、これら３人のデモンストレーターの文化形質の組み合わせについて、Ａを採用する確率を計算したいと思います。\r\n",
        "\r\n",
        "まず、各組み合わせに含まれるAの数を求める。そして、表1の確率に基づいて母集団の形質を入れ替えます。3人中2人がAを持っている場合は確率2/3+D/3でAとし、そうでない場合はBとする。3人のうち1人がAを持っている場合は、1/3-D/3の確率でAとし、そうでない場合はBとする。\r\n",
        "\r\n"
      ]
    },
    {
      "cell_type": "code",
      "metadata": {
        "colab": {
          "base_uri": "https://localhost:8080/",
          "height": 310
        },
        "cellView": "code",
        "id": "G0ZU3uSHCkcd",
        "outputId": "07db9194-b1cd-4b53-d8fd-f166370177a4"
      },
      "source": [
        "print(\"表1 3人のデモンストレータが持つ文化形質のそれぞれの組み合わせについて、形質Aを採用する確率\")\n",
        "Table = pd.DataFrame({\"Demonstrator1\":[\"A\",\"A\",\"A\",\"B\",\"A\",\"B\",\"B\",\"B\"], \"Demonstrator2\":[\"A\",\"A\",\"B\",\"A\",\"B\",\"A\",\"B\",\"B\"],\"Demonstrator3\":[\"A\",\"B\",\"A\",\"A\",\"B\",\"B\",\"A\",\"B\"], \"Probability of adopting trait A\":[\"1\", \"2/3+D/3\",\"2/3+D/3\",\"2/3+D/3\",\"1/3-D/3\",\"1/3-D/3\",\"1/3-D/3\",\"0\"]})\n",
        "Table"
      ],
      "execution_count": null,
      "outputs": [
        {
          "output_type": "stream",
          "text": [
            "表1 3人のデモンストレータが持つ文化形質のそれぞれの組み合わせについて、形質Aを採用する確率\n"
          ],
          "name": "stdout"
        },
        {
          "output_type": "execute_result",
          "data": {
            "text/html": [
              "<div>\n",
              "<style scoped>\n",
              "    .dataframe tbody tr th:only-of-type {\n",
              "        vertical-align: middle;\n",
              "    }\n",
              "\n",
              "    .dataframe tbody tr th {\n",
              "        vertical-align: top;\n",
              "    }\n",
              "\n",
              "    .dataframe thead th {\n",
              "        text-align: right;\n",
              "    }\n",
              "</style>\n",
              "<table border=\"1\" class=\"dataframe\">\n",
              "  <thead>\n",
              "    <tr style=\"text-align: right;\">\n",
              "      <th></th>\n",
              "      <th>Demonstrator1</th>\n",
              "      <th>Demonstrator2</th>\n",
              "      <th>Demonstrator3</th>\n",
              "      <th>Probability of adopting trait A</th>\n",
              "    </tr>\n",
              "  </thead>\n",
              "  <tbody>\n",
              "    <tr>\n",
              "      <th>0</th>\n",
              "      <td>A</td>\n",
              "      <td>A</td>\n",
              "      <td>A</td>\n",
              "      <td>1</td>\n",
              "    </tr>\n",
              "    <tr>\n",
              "      <th>1</th>\n",
              "      <td>A</td>\n",
              "      <td>A</td>\n",
              "      <td>B</td>\n",
              "      <td>2/3+D/3</td>\n",
              "    </tr>\n",
              "    <tr>\n",
              "      <th>2</th>\n",
              "      <td>A</td>\n",
              "      <td>B</td>\n",
              "      <td>A</td>\n",
              "      <td>2/3+D/3</td>\n",
              "    </tr>\n",
              "    <tr>\n",
              "      <th>3</th>\n",
              "      <td>B</td>\n",
              "      <td>A</td>\n",
              "      <td>A</td>\n",
              "      <td>2/3+D/3</td>\n",
              "    </tr>\n",
              "    <tr>\n",
              "      <th>4</th>\n",
              "      <td>A</td>\n",
              "      <td>B</td>\n",
              "      <td>B</td>\n",
              "      <td>1/3-D/3</td>\n",
              "    </tr>\n",
              "    <tr>\n",
              "      <th>5</th>\n",
              "      <td>B</td>\n",
              "      <td>A</td>\n",
              "      <td>B</td>\n",
              "      <td>1/3-D/3</td>\n",
              "    </tr>\n",
              "    <tr>\n",
              "      <th>6</th>\n",
              "      <td>B</td>\n",
              "      <td>B</td>\n",
              "      <td>A</td>\n",
              "      <td>1/3-D/3</td>\n",
              "    </tr>\n",
              "    <tr>\n",
              "      <th>7</th>\n",
              "      <td>B</td>\n",
              "      <td>B</td>\n",
              "      <td>B</td>\n",
              "      <td>0</td>\n",
              "    </tr>\n",
              "  </tbody>\n",
              "</table>\n",
              "</div>"
            ],
            "text/plain": [
              "  Demonstrator1 Demonstrator2 Demonstrator3 Probability of adopting trait A\n",
              "0             A             A             A                               1\n",
              "1             A             A             B                         2/3+D/3\n",
              "2             A             B             A                         2/3+D/3\n",
              "3             B             A             A                         2/3+D/3\n",
              "4             A             B             B                         1/3-D/3\n",
              "5             B             A             B                         1/3-D/3\n",
              "6             B             B             A                         1/3-D/3\n",
              "7             B             B             B                               0"
            ]
          },
          "metadata": {
            "tags": []
          },
          "execution_count": 50
        }
      ]
    },
    {
      "cell_type": "code",
      "metadata": {
        "id": "eFAtJXL6FJ3R"
      },
      "source": [
        ""
      ],
      "execution_count": null,
      "outputs": []
    }
  ]
}